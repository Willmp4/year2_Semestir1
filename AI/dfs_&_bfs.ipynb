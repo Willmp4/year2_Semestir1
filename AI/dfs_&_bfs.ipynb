{
 "cells": [
  {
   "cell_type": "code",
   "execution_count": 1,
   "metadata": {},
   "outputs": [
    {
     "data": {
      "text/plain": [
       "['S', 'd', 'e', 'p', 'b', 'c', 'h', 'r', 'f', 'G']"
      ]
     },
     "execution_count": 1,
     "metadata": {},
     "output_type": "execute_result"
    }
   ],
   "source": [
    "graph = {\n",
    "    \"S\": [\"d\", \"e\", \"p\"],\n",
    "    \"d\": [\"b\", \"c\", \"e\"],\n",
    "    \"e\": [\"h\", \"r\"],\n",
    "    \"p\":[\"q\"],\n",
    "    \"b\": [\"a\"],\n",
    "    \"c\": [\"a\"],\n",
    "    \"h\":['p',\"q\"],\n",
    "    \"r\":[\"f\"],\n",
    "    \"f\": [\"c\", \"G\"],\n",
    "    \"G\": [\"G\"]\n",
    "}\n",
    "\n",
    "def bfs_conn(g, s):\n",
    "    exp = []\n",
    "    queue = [s]\n",
    "\n",
    "\n",
    "    visited = [s]\n",
    "    while queue:\n",
    "        node = queue.pop(0)\n",
    "        exp.append(node)\n",
    "        neighbours = g[node]\n",
    "        for neighbour in neighbours:\n",
    "            if neighbour not in visited:\n",
    "                    if neighbour in g:\n",
    "                        queue.append(neighbour)\n",
    "                        visited.append(neighbour)\n",
    "    return exp\n",
    "\n",
    "bfs_conn(graph, 'S')\n"
   ]
  },
  {
   "cell_type": "code",
   "execution_count": 2,
   "metadata": {},
   "outputs": [
    {
     "data": {
      "text/plain": [
       "'SderfG'"
      ]
     },
     "execution_count": 2,
     "metadata": {},
     "output_type": "execute_result"
    }
   ],
   "source": [
    "graph = {\n",
    "    \"S\": [\"d\", \"e\", \"p\"],\n",
    "    \"d\": [\"b\", \"c\", \"e\"],\n",
    "    \"b\": [\"a\"],\n",
    "    \"c\": [\"a\"],\n",
    "    \"e\": [\"h\", \"r\"],\n",
    "    \"h\":['p',\"q\"],\n",
    "    \"p\":[\"q\"],\n",
    "    \"r\":[\"f\"],\n",
    "    \"f\": [\"c\", \"G\"],\n",
    "    \"G\": [\"G\"]\n",
    "}\n",
    "\n",
    "\n",
    "def dfs(graph, s, g, exp, path_so_far):\n",
    "    exp.add(s)\n",
    "    if s == g:\n",
    "        return path_so_far + s\n",
    "    for node in graph[s]:\n",
    "        if node not in exp:\n",
    "            if node in graph:\n",
    "                p = dfs(graph, node, g, exp, path_so_far + s)\n",
    "                if p:\n",
    "                    return p\n",
    "    return \"\"\n",
    "\n",
    "dfs(graph, \"S\", \"G\", set(), \"\")"
   ]
  },
  {
   "cell_type": "code",
   "execution_count": 3,
   "metadata": {},
   "outputs": [
    {
     "data": {
      "text/plain": [
       "['S', 'e', 'r', 'f', 'G']"
      ]
     },
     "execution_count": 3,
     "metadata": {},
     "output_type": "execute_result"
    }
   ],
   "source": [
    "import pathlib\n",
    "from typing import Dict, List\n",
    "\n",
    "def shortest_path(graph, node1, node2):\n",
    "\n",
    "    path_list = [[node1]]\n",
    "    path_index = 0\n",
    "    # To keep track of previously visited nodes\n",
    "    previous_nodes = {node1}\n",
    "    if node1 == node2:\n",
    "        return path_list[0]\n",
    "        \n",
    "    while path_index < len(path_list):\n",
    "        current_path = path_list[path_index]\n",
    "        last_node = current_path[-1]\n",
    "        next_nodes = graph[last_node]\n",
    "        # Search goal node\n",
    "        if node2 in next_nodes:\n",
    "            current_path.append(node2)\n",
    "            return current_path\n",
    "        # Add new paths\n",
    "        for next_node in next_nodes:\n",
    "            if not next_node in previous_nodes:\n",
    "                if next_node in graph:\n",
    "                    new_path = current_path[:]\n",
    "                    new_path.append(next_node)\n",
    "                    path_list.append(new_path)\n",
    "                    # To avoid backtracking\n",
    "                    previous_nodes.add(next_node)\n",
    "    \n",
    "        # Continue to next path in list\n",
    "        path_index += 1\n",
    "    # No path is found\n",
    "    return []\n",
    "\n",
    "\n",
    "shortest_path(graph, \"S\", \"G\")"
   ]
  },
  {
   "cell_type": "code",
   "execution_count": null,
   "metadata": {},
   "outputs": [],
   "source": []
  }
 ],
 "metadata": {
  "kernelspec": {
   "display_name": "Python 3.10.6 64-bit",
   "language": "python",
   "name": "python3"
  },
  "language_info": {
   "codemirror_mode": {
    "name": "ipython",
    "version": 3
   },
   "file_extension": ".py",
   "mimetype": "text/x-python",
   "name": "python",
   "nbconvert_exporter": "python",
   "pygments_lexer": "ipython3",
   "version": "3.10.6"
  },
  "orig_nbformat": 4,
  "vscode": {
   "interpreter": {
    "hash": "1d7b600ce265f0f0e0e127fccca2389de35efd8720ffe56c233ddf206058fc9a"
   }
  }
 },
 "nbformat": 4,
 "nbformat_minor": 2
}
